{
  "nbformat": 4,
  "nbformat_minor": 0,
  "metadata": {
    "colab": {
      "provenance": []
    },
    "kernelspec": {
      "name": "python3",
      "display_name": "Python 3"
    },
    "language_info": {
      "name": "python"
    }
  },
  "cells": [
    {
      "cell_type": "markdown",
      "source": [
        "# Train Test Split"
      ],
      "metadata": {
        "id": "9FrO2BukQvsb"
      }
    },
    {
      "cell_type": "markdown",
      "source": [
        "## Import the libraries"
      ],
      "metadata": {
        "id": "-bgryK4yQ3O4"
      }
    },
    {
      "cell_type": "code",
      "execution_count": 1,
      "metadata": {
        "id": "yz0kGHuEQmGr"
      },
      "outputs": [],
      "source": [
        "import numpy as np\n",
        "from sklearn.model_selection import train_test_split"
      ]
    },
    {
      "cell_type": "markdown",
      "source": [
        "## Fenerate some se are going to split"
      ],
      "metadata": {
        "id": "r7mT3tRoRHqT"
      }
    },
    {
      "cell_type": "code",
      "source": [
        "a = np.arange(1,101)"
      ],
      "metadata": {
        "id": "wjrpj1bNRLX_"
      },
      "execution_count": 2,
      "outputs": []
    },
    {
      "cell_type": "code",
      "source": [
        "a"
      ],
      "metadata": {
        "colab": {
          "base_uri": "https://localhost:8080/"
        },
        "id": "9VSi7m3YRPkW",
        "outputId": "688bbcfc-2b12-46f2-dc91-85ba4b01ca2b"
      },
      "execution_count": 3,
      "outputs": [
        {
          "output_type": "execute_result",
          "data": {
            "text/plain": [
              "array([  1,   2,   3,   4,   5,   6,   7,   8,   9,  10,  11,  12,  13,\n",
              "        14,  15,  16,  17,  18,  19,  20,  21,  22,  23,  24,  25,  26,\n",
              "        27,  28,  29,  30,  31,  32,  33,  34,  35,  36,  37,  38,  39,\n",
              "        40,  41,  42,  43,  44,  45,  46,  47,  48,  49,  50,  51,  52,\n",
              "        53,  54,  55,  56,  57,  58,  59,  60,  61,  62,  63,  64,  65,\n",
              "        66,  67,  68,  69,  70,  71,  72,  73,  74,  75,  76,  77,  78,\n",
              "        79,  80,  81,  82,  83,  84,  85,  86,  87,  88,  89,  90,  91,\n",
              "        92,  93,  94,  95,  96,  97,  98,  99, 100])"
            ]
          },
          "metadata": {},
          "execution_count": 3
        }
      ]
    },
    {
      "cell_type": "code",
      "source": [
        "b = np.arange(501,601)\n",
        "b"
      ],
      "metadata": {
        "colab": {
          "base_uri": "https://localhost:8080/"
        },
        "id": "IWlNbqOMRQPW",
        "outputId": "66c6c598-beab-47d1-a6e5-7c384c26ec64"
      },
      "execution_count": 4,
      "outputs": [
        {
          "output_type": "execute_result",
          "data": {
            "text/plain": [
              "array([501, 502, 503, 504, 505, 506, 507, 508, 509, 510, 511, 512, 513,\n",
              "       514, 515, 516, 517, 518, 519, 520, 521, 522, 523, 524, 525, 526,\n",
              "       527, 528, 529, 530, 531, 532, 533, 534, 535, 536, 537, 538, 539,\n",
              "       540, 541, 542, 543, 544, 545, 546, 547, 548, 549, 550, 551, 552,\n",
              "       553, 554, 555, 556, 557, 558, 559, 560, 561, 562, 563, 564, 565,\n",
              "       566, 567, 568, 569, 570, 571, 572, 573, 574, 575, 576, 577, 578,\n",
              "       579, 580, 581, 582, 583, 584, 585, 586, 587, 588, 589, 590, 591,\n",
              "       592, 593, 594, 595, 596, 597, 598, 599, 600])"
            ]
          },
          "metadata": {},
          "execution_count": 4
        }
      ]
    },
    {
      "cell_type": "markdown",
      "source": [
        "## Split the data"
      ],
      "metadata": {
        "id": "3t3OauPkRUZV"
      }
    },
    {
      "cell_type": "code",
      "source": [
        "train_test_split(a)"
      ],
      "metadata": {
        "colab": {
          "base_uri": "https://localhost:8080/"
        },
        "id": "qf9qjWXKRTNH",
        "outputId": "65f89c1f-4d8c-4b26-9275-291e250cfaf2"
      },
      "execution_count": 5,
      "outputs": [
        {
          "output_type": "execute_result",
          "data": {
            "text/plain": [
              "[array([ 13,  62,  11,  74,  10,  78,   8,  27,   1,  75,  20,  24,  45,\n",
              "         93,  95,  68, 100,  69,  79,   5,  90,  82,  39,  84,  71,  86,\n",
              "         55,   9,  96,  52,  37,  54,  66,  58,  83,  51,  65,  26,  15,\n",
              "          7,   6,  21,  73,  85,  42,  49,  87,  33,  50,  25,  22,  29,\n",
              "         18,  53,  57,  97,  43,  80,  40,  77,  67,  35,  61,  19,  98,\n",
              "          2,  48,  76,  60,  34,   3,  31,  59,  70,  16]),\n",
              " array([92, 94, 63, 72, 17,  4, 44, 56, 12, 99, 32, 89, 30, 41, 81, 91, 46,\n",
              "        47, 38, 64, 88, 23, 14, 28, 36])]"
            ]
          },
          "metadata": {},
          "execution_count": 5
        }
      ]
    },
    {
      "cell_type": "code",
      "source": [
        "a_train, a_test, b_train, b_test= train_test_split(a,b, test_size =0.2, random_state= 42)"
      ],
      "metadata": {
        "id": "7lae_NQnRW0H"
      },
      "execution_count": 25,
      "outputs": []
    },
    {
      "cell_type": "markdown",
      "source": [
        "## Explore the results"
      ],
      "metadata": {
        "id": "rhqjc4wLRnZF"
      }
    },
    {
      "cell_type": "code",
      "source": [
        "a_train.shape, a_test.shape"
      ],
      "metadata": {
        "colab": {
          "base_uri": "https://localhost:8080/"
        },
        "id": "k-a7OmJsRdv_",
        "outputId": "b3729ac2-2e06-4f0f-dcfd-2568dc7817a1"
      },
      "execution_count": 22,
      "outputs": [
        {
          "output_type": "execute_result",
          "data": {
            "text/plain": [
              "((80,), (20,))"
            ]
          },
          "metadata": {},
          "execution_count": 22
        }
      ]
    },
    {
      "cell_type": "code",
      "source": [
        "a_train"
      ],
      "metadata": {
        "colab": {
          "base_uri": "https://localhost:8080/"
        },
        "id": "plDNiJsjRe1Q",
        "outputId": "4ae70eec-5a56-4799-fa5e-48c93323ef75"
      },
      "execution_count": 23,
      "outputs": [
        {
          "output_type": "execute_result",
          "data": {
            "text/plain": [
              "array([ 56,  89,  27,  43,  70,  16,  41,  97,  10,  73,  12,  48,  86,\n",
              "        29,  94,   6,  67,  66,  36,  17,  50,  35,   8,  96,  28,  20,\n",
              "        82,  26,  63,  14,  25,   4,  18,  39,   9,  79,   7,  65,  37,\n",
              "        90,  57, 100,  55,  44,  51,  68,  47,  69,  62,  98,  80,  42,\n",
              "        59,  49,  99,  58,  76,  33,  95,  60,  64,  85,  38,  30,   2,\n",
              "        53,  22,   3,  24,  88,  92,  75,  87,  83,  21,  61,  72,  15,\n",
              "        93,  52])"
            ]
          },
          "metadata": {},
          "execution_count": 23
        }
      ]
    },
    {
      "cell_type": "code",
      "source": [
        "a_test"
      ],
      "metadata": {
        "colab": {
          "base_uri": "https://localhost:8080/"
        },
        "id": "zwVKLlRcRuyG",
        "outputId": "ee270629-9c4b-4a54-ea9f-80e25bdd2c91"
      },
      "execution_count": 24,
      "outputs": [
        {
          "output_type": "execute_result",
          "data": {
            "text/plain": [
              "array([84, 54, 71, 46, 45, 40, 23, 81, 11,  1, 19, 31, 74, 34, 91,  5, 77,\n",
              "       78, 13, 32])"
            ]
          },
          "metadata": {},
          "execution_count": 24
        }
      ]
    },
    {
      "cell_type": "code",
      "source": [
        "b_train.shape, b_test.shape"
      ],
      "metadata": {
        "colab": {
          "base_uri": "https://localhost:8080/"
        },
        "id": "jysW_gPpRweX",
        "outputId": "858d971b-bf97-41a5-e14c-ffe5a705e741"
      },
      "execution_count": 26,
      "outputs": [
        {
          "output_type": "execute_result",
          "data": {
            "text/plain": [
              "((80,), (20,))"
            ]
          },
          "metadata": {},
          "execution_count": 26
        }
      ]
    },
    {
      "cell_type": "code",
      "source": [
        "b_train"
      ],
      "metadata": {
        "colab": {
          "base_uri": "https://localhost:8080/"
        },
        "id": "eq_l9GhzSs3V",
        "outputId": "0c327e84-9bc7-4758-e453-bfec9dc2ee15"
      },
      "execution_count": 28,
      "outputs": [
        {
          "output_type": "execute_result",
          "data": {
            "text/plain": [
              "array([556, 589, 527, 543, 570, 516, 541, 597, 510, 573, 512, 548, 586,\n",
              "       529, 594, 506, 567, 566, 536, 517, 550, 535, 508, 596, 528, 520,\n",
              "       582, 526, 563, 514, 525, 504, 518, 539, 509, 579, 507, 565, 537,\n",
              "       590, 557, 600, 555, 544, 551, 568, 547, 569, 562, 598, 580, 542,\n",
              "       559, 549, 599, 558, 576, 533, 595, 560, 564, 585, 538, 530, 502,\n",
              "       553, 522, 503, 524, 588, 592, 575, 587, 583, 521, 561, 572, 515,\n",
              "       593, 552])"
            ]
          },
          "metadata": {},
          "execution_count": 28
        }
      ]
    },
    {
      "cell_type": "code",
      "source": [
        "b_test"
      ],
      "metadata": {
        "colab": {
          "base_uri": "https://localhost:8080/"
        },
        "id": "sG3IPEcCSue1",
        "outputId": "e9543001-6025-4d8b-f558-1302a3092bdc"
      },
      "execution_count": 29,
      "outputs": [
        {
          "output_type": "execute_result",
          "data": {
            "text/plain": [
              "array([584, 554, 571, 546, 545, 540, 523, 581, 511, 501, 519, 531, 574,\n",
              "       534, 591, 505, 577, 578, 513, 532])"
            ]
          },
          "metadata": {},
          "execution_count": 29
        }
      ]
    },
    {
      "cell_type": "code",
      "source": [],
      "metadata": {
        "id": "wNBp4iswSxV-"
      },
      "execution_count": null,
      "outputs": []
    }
  ]
}